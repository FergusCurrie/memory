{
 "cells": [
  {
   "cell_type": "code",
   "execution_count": 17,
   "metadata": {},
   "outputs": [
    {
     "name": "stdout",
     "output_type": "stream",
     "text": [
      "Tables in the database:\n",
      "Schema: dbo, Table: academic\n"
     ]
    }
   ],
   "source": [
    "import pyodbc\n",
    "\n",
    "server = 'sqledge'  # This is the name of your Azure SQL Edge container\n",
    "database = 'datasets'\n",
    "username = 'sa'\n",
    "password = 'bigStrfefongPwd4234#!#'\n",
    "\n",
    "conn_str = f'DRIVER={{ODBC Driver 18 for SQL Server}};SERVER={server};DATABASE={database};UID={username};PWD={password};TrustServerCertificate=yes;Encrypt=yes;'\n",
    "\n",
    "conn = pyodbc.connect(conn_str)\n",
    "cursor = conn.cursor()\n",
    "\n",
    "query = \"\"\"\n",
    "SELECT \n",
    "    t.name AS TableName,\n",
    "    s.name AS SchemaName\n",
    "FROM \n",
    "    sys.tables t\n",
    "INNER JOIN \n",
    "    sys.schemas s ON t.schema_id = s.schema_id\n",
    "ORDER BY \n",
    "    s.name, t.name;\n",
    "\"\"\"\n",
    "cursor.execute(query)\n",
    "\n",
    "# Fetch all results\n",
    "tables = cursor.fetchall()\n",
    "\n",
    "# Print the results\n",
    "print(\"Tables in the database:\")\n",
    "for table in tables:\n",
    "    print(f\"Schema: {table.SchemaName}, Table: {table.TableName}\")\n",
    "\n",
    "# Close the cursor and connection\n",
    "cursor.close()\n",
    "conn.close()"
   ]
  },
  {
   "cell_type": "code",
   "execution_count": 5,
   "metadata": {},
   "outputs": [
    {
     "data": {
      "text/plain": [
       "[('MSreplication_options', 'dbo'),\n",
       " ('spt_fallback_db', 'dbo'),\n",
       " ('spt_fallback_dev', 'dbo'),\n",
       " ('spt_fallback_usg', 'dbo'),\n",
       " ('spt_monitor', 'dbo')]"
      ]
     },
     "execution_count": 5,
     "metadata": {},
     "output_type": "execute_result"
    }
   ],
   "source": [
    "import pyodbc\n",
    "\n",
    "\n",
    "def query(query):\n",
    "   \n",
    "\n",
    "    server = 'sqledge'  # This is the name of your Azure SQL Edge container\n",
    "    database = 'master'\n",
    "    username = 'sa'\n",
    "    password = 'bigStrfefongPwd4234#!#'\n",
    "\n",
    "    conn_str = f'DRIVER={{ODBC Driver 18 for SQL Server}};SERVER={server};DATABASE={database};UID={username};PWD={password};TrustServerCertificate=yes;Encrypt=yes;'\n",
    "\n",
    "    conn = pyodbc.connect(conn_str)\n",
    "    cursor = conn.cursor()\n",
    "\n",
    "    \n",
    "    cursor.execute(query)\n",
    "\n",
    "    # Fetch all results\n",
    "    tables = cursor.fetchall()\n",
    "\n",
    "    # Close the cursor and connection\n",
    "    cursor.close()\n",
    "    conn.close()\n",
    "\n",
    "    return tables\n",
    "\n",
    "\n",
    "q = \"\"\"\n",
    "    SELECT \n",
    "        t.name AS TableName,\n",
    "        s.name AS SchemaName\n",
    "    FROM \n",
    "        sys.tables t\n",
    "    INNER JOIN \n",
    "        sys.schemas s ON t.schema_id = s.schema_id\n",
    "    ORDER BY \n",
    "        s.name, t.name;\n",
    "    \"\"\"\n",
    "\n",
    "query(q)"
   ]
  },
  {
   "cell_type": "code",
   "execution_count": 7,
   "metadata": {},
   "outputs": [
    {
     "data": {
      "text/html": [
       "<div><style>\n",
       ".dataframe > thead > tr,\n",
       ".dataframe > tbody > tr {\n",
       "  text-align: right;\n",
       "  white-space: pre-wrap;\n",
       "}\n",
       "</style>\n",
       "<small>shape: (75, 7)</small><table border=\"1\" class=\"dataframe\"><thead><tr><th>year</th><th>students</th><th>us_students</th><th>undergraduate</th><th>graduate</th><th>non_degree</th><th>opt</th></tr><tr><td>str</td><td>i64</td><td>f64</td><td>f64</td><td>f64</td><td>f64</td><td>f64</td></tr></thead><tbody><tr><td>&quot;1948/49&quot;</td><td>25464</td><td>2.4034e6</td><td>null</td><td>null</td><td>null</td><td>null</td></tr><tr><td>&quot;1949/50&quot;</td><td>26433</td><td>2.445e6</td><td>null</td><td>null</td><td>null</td><td>null</td></tr><tr><td>&quot;1950/51&quot;</td><td>29813</td><td>2.281e6</td><td>null</td><td>null</td><td>null</td><td>null</td></tr><tr><td>&quot;1951/52&quot;</td><td>30462</td><td>2.102e6</td><td>null</td><td>null</td><td>null</td><td>null</td></tr><tr><td>&quot;1952/53&quot;</td><td>33675</td><td>2.134e6</td><td>null</td><td>null</td><td>null</td><td>null</td></tr><tr><td>&hellip;</td><td>&hellip;</td><td>&hellip;</td><td>&hellip;</td><td>&hellip;</td><td>&hellip;</td><td>&hellip;</td></tr><tr><td>&quot;2018/19&quot;</td><td>1095299</td><td>1.9828e7</td><td>431930.0</td><td>377943.0</td><td>62341.0</td><td>223085.0</td></tr><tr><td>&quot;2019/20&quot;</td><td>1075496</td><td>1.972e7</td><td>419321.0</td><td>374435.0</td><td>58201.0</td><td>223539.0</td></tr><tr><td>&quot;2020/21&quot;</td><td>914095</td><td>1.9744e7</td><td>359787.0</td><td>329272.0</td><td>21151.0</td><td>203885.0</td></tr><tr><td>&quot;2021/22&quot;</td><td>948519</td><td>2.0327e7</td><td>344532.0</td><td>385097.0</td><td>34131.0</td><td>184759.0</td></tr><tr><td>&quot;2022/23&quot;</td><td>1057188</td><td>1.896128e7</td><td>347602.0</td><td>467027.0</td><td>43766.0</td><td>198793.0</td></tr></tbody></table></div>"
      ],
      "text/plain": [
       "shape: (75, 7)\n",
       "┌─────────┬──────────┬─────────────┬───────────────┬──────────┬────────────┬──────────┐\n",
       "│ year    ┆ students ┆ us_students ┆ undergraduate ┆ graduate ┆ non_degree ┆ opt      │\n",
       "│ ---     ┆ ---      ┆ ---         ┆ ---           ┆ ---      ┆ ---        ┆ ---      │\n",
       "│ str     ┆ i64      ┆ f64         ┆ f64           ┆ f64      ┆ f64        ┆ f64      │\n",
       "╞═════════╪══════════╪═════════════╪═══════════════╪══════════╪════════════╪══════════╡\n",
       "│ 1948/49 ┆ 25464    ┆ 2.4034e6    ┆ null          ┆ null     ┆ null       ┆ null     │\n",
       "│ 1949/50 ┆ 26433    ┆ 2.445e6     ┆ null          ┆ null     ┆ null       ┆ null     │\n",
       "│ 1950/51 ┆ 29813    ┆ 2.281e6     ┆ null          ┆ null     ┆ null       ┆ null     │\n",
       "│ 1951/52 ┆ 30462    ┆ 2.102e6     ┆ null          ┆ null     ┆ null       ┆ null     │\n",
       "│ 1952/53 ┆ 33675    ┆ 2.134e6     ┆ null          ┆ null     ┆ null       ┆ null     │\n",
       "│ …       ┆ …        ┆ …           ┆ …             ┆ …        ┆ …          ┆ …        │\n",
       "│ 2018/19 ┆ 1095299  ┆ 1.9828e7    ┆ 431930.0      ┆ 377943.0 ┆ 62341.0    ┆ 223085.0 │\n",
       "│ 2019/20 ┆ 1075496  ┆ 1.972e7     ┆ 419321.0      ┆ 374435.0 ┆ 58201.0    ┆ 223539.0 │\n",
       "│ 2020/21 ┆ 914095   ┆ 1.9744e7    ┆ 359787.0      ┆ 329272.0 ┆ 21151.0    ┆ 203885.0 │\n",
       "│ 2021/22 ┆ 948519   ┆ 2.0327e7    ┆ 344532.0      ┆ 385097.0 ┆ 34131.0    ┆ 184759.0 │\n",
       "│ 2022/23 ┆ 1057188  ┆ 1.896128e7  ┆ 347602.0      ┆ 467027.0 ┆ 43766.0    ┆ 198793.0 │\n",
       "└─────────┴──────────┴─────────────┴───────────────┴──────────┴────────────┴──────────┘"
      ]
     },
     "execution_count": 7,
     "metadata": {},
     "output_type": "execute_result"
    }
   ],
   "source": [
    "import pandas as pd \n",
    "import polars as pl \n",
    "\n",
    "academic_df = pl.read_csv(\"backend/code_execution/data/academic.csv\")\n",
    "academic_df\n"
   ]
  },
  {
   "cell_type": "code",
   "execution_count": null,
   "metadata": {},
   "outputs": [],
   "source": []
  },
  {
   "cell_type": "code",
   "execution_count": 11,
   "metadata": {},
   "outputs": [],
   "source": [
    "import pandas as pd \n",
    "import polars as pl \n",
    "import pyodbc\n",
    "\n",
    "server = 'sqledge'  # This is the name of your Azure SQL Edge container\n",
    "database = 'datasets'\n",
    "username = 'sa'\n",
    "password = 'bigStrfefongPwd4234#!#'\n",
    "\n",
    "def get_sql_type(dtype):\n",
    "    if dtype == pl.String:\n",
    "        return 'NVARCHAR(MAX)'\n",
    "    elif dtype == pl.Int64:\n",
    "        return 'BIGINT'\n",
    "    elif dtype == pl.Float64:\n",
    "        return 'FLOAT'\n",
    "    elif dtype == pl.Boolean:\n",
    "        return 'BIT'\n",
    "    elif dtype == pl.Datetime:\n",
    "        return 'DATETIME2'\n",
    "    else:\n",
    "        return 'NVARCHAR(MAX)'  # Default to NVARCHAR(MAX) for unknown types\n",
    "\n",
    "\n",
    "def add_table_from_csv(csv):\n",
    "    df = pl.read_csv(f\"backend/code_execution/data/{csv}\")\n",
    "    \n",
    "    \n",
    "    if len(df)> 1000:\n",
    "        return\n",
    "\n",
    "    print(len(df))\n",
    "    \n",
    "    columns = [\"id INT IDENTITY(1,1) PRIMARY KEY\"]\n",
    "    for column, dtype in zip(df.columns, df.dtypes):\n",
    "        sql_type = get_sql_type(dtype)\n",
    "        columns.append(f\"[{column}] {sql_type}\")\n",
    "\n",
    "    create_table_query = f\"\"\"\n",
    "    CREATE TABLE {csv.replace('.csv','')} (\n",
    "        {', '.join(columns)}\n",
    "    )\n",
    "    \"\"\"\n",
    "    print(create_table_query)\n",
    "\n",
    "    conn_str = f'DRIVER={{ODBC Driver 18 for SQL Server}};SERVER={server};DATABASE={database};UID={username};PWD={password};TrustServerCertificate=yes;Encrypt=yes;'\n",
    "    conn = pyodbc.connect(conn_str)\n",
    "    cursor = conn.cursor()\n",
    "    cursor.execute(create_table_query)\n",
    "    conn.commit()\n",
    "    # Prepare the batch insert query\n",
    "    placeholders = ', '.join(['?' for _ in df.columns])\n",
    "    insert_query = f\"\"\"\n",
    "    INSERT INTO {csv.replace('.csv','')} ({', '.join([f'[{col}]' for col in df.columns])})\n",
    "    VALUES ({placeholders})\n",
    "    \"\"\"\n",
    "\n",
    "    # Convert the DataFrame to a list of tuples for batch insert\n",
    "    data = [tuple(row) for row in df.iter_rows()]\n",
    "\n",
    "    # Perform batch insert\n",
    "    cursor.fast_executemany = True\n",
    "    cursor.executemany(insert_query, data)\n",
    "    conn.commit()\n",
    "    cursor.close()\n",
    "    conn.close()\n",
    "\n"
   ]
  },
  {
   "cell_type": "code",
   "execution_count": null,
   "metadata": {},
   "outputs": [],
   "source": []
  },
  {
   "cell_type": "code",
   "execution_count": 12,
   "metadata": {},
   "outputs": [
    {
     "name": "stdout",
     "output_type": "stream",
     "text": [
      "75\n",
      "\n",
      "    CREATE TABLE academic (\n",
      "        id INT IDENTITY(1,1) PRIMARY KEY, [year] NVARCHAR(MAX), [students] BIGINT, [us_students] FLOAT, [undergraduate] FLOAT, [graduate] FLOAT, [non_degree] FLOAT, [opt] FLOAT\n",
      "    )\n",
      "    \n",
      "1000\n",
      "\n",
      "    CREATE TABLE student_performance (\n",
      "        id INT IDENTITY(1,1) PRIMARY KEY, [gender] NVARCHAR(MAX), [race/ethnicity] NVARCHAR(MAX), [parental level of education] NVARCHAR(MAX), [lunch] NVARCHAR(MAX), [test preparation course] NVARCHAR(MAX), [math score] BIGINT, [reading score] BIGINT, [writing score] BIGINT\n",
      "    )\n",
      "    \n",
      "29\n",
      "\n",
      "    CREATE TABLE pytest_expected_output (\n",
      "        id INT IDENTITY(1,1) PRIMARY KEY, [Name] NVARCHAR(MAX), [Type 1] NVARCHAR(MAX), [Type 2] NVARCHAR(MAX), [Total] BIGINT, [Attack] BIGINT, [Defense] BIGINT, [Speed] BIGINT, [Atk Rank] BIGINT, [Def Rank] BIGINT, [Spe Rank] BIGINT\n",
      "    )\n",
      "    \n",
      "16\n",
      "\n",
      "    CREATE TABLE status (\n",
      "        id INT IDENTITY(1,1) PRIMARY KEY, [year] NVARCHAR(MAX), [female] FLOAT, [male] FLOAT, [single] FLOAT, [married] FLOAT, [full_time] FLOAT, [part_time] FLOAT, [visa_f] FLOAT, [visa_j] FLOAT, [visa_other] FLOAT\n",
      "    )\n",
      "    \n",
      "15\n",
      "\n",
      "    CREATE TABLE temperatures (\n",
      "        id INT IDENTITY(1,1) PRIMARY KEY, [date] NVARCHAR(MAX), [avg_temp_celsius] FLOAT\n",
      "    )\n",
      "    \n"
     ]
    },
    {
     "ename": "ProgrammingError",
     "evalue": "('42000', '[42000] [Microsoft][ODBC Driver 18 for SQL Server][SQL Server]The incoming tabular data stream (TDS) remote procedure call (RPC) protocol stream is incorrect. Parameter 2 (\"\"): The supplied value is not a valid instance of data type float. Check the source data for invalid values. An example of an invalid value is data of numeric type with scale greater than precision. (8023) (SQLParamData)')",
     "output_type": "error",
     "traceback": [
      "\u001b[0;31m---------------------------------------------------------------------------\u001b[0m",
      "\u001b[0;31mProgrammingError\u001b[0m                          Traceback (most recent call last)",
      "Cell \u001b[0;32mIn[12], line 5\u001b[0m\n\u001b[1;32m      3\u001b[0m \u001b[38;5;28;01mfor\u001b[39;00m file \u001b[38;5;129;01min\u001b[39;00m os\u001b[38;5;241m.\u001b[39mlistdir(\u001b[38;5;124m\"\u001b[39m\u001b[38;5;124mbackend/code_execution/data/\u001b[39m\u001b[38;5;124m\"\u001b[39m):\n\u001b[1;32m      4\u001b[0m     \u001b[38;5;28;01mif\u001b[39;00m \u001b[38;5;124m'\u001b[39m\u001b[38;5;124m.csv\u001b[39m\u001b[38;5;124m'\u001b[39m \u001b[38;5;129;01min\u001b[39;00m file:\n\u001b[0;32m----> 5\u001b[0m         \u001b[43madd_table_from_csv\u001b[49m\u001b[43m(\u001b[49m\u001b[43mfile\u001b[49m\u001b[43m)\u001b[49m\n",
      "Cell \u001b[0;32mIn[11], line 63\u001b[0m, in \u001b[0;36madd_table_from_csv\u001b[0;34m(csv)\u001b[0m\n\u001b[1;32m     61\u001b[0m \u001b[38;5;66;03m# Perform batch insert\u001b[39;00m\n\u001b[1;32m     62\u001b[0m cursor\u001b[38;5;241m.\u001b[39mfast_executemany \u001b[38;5;241m=\u001b[39m \u001b[38;5;28;01mTrue\u001b[39;00m\n\u001b[0;32m---> 63\u001b[0m \u001b[43mcursor\u001b[49m\u001b[38;5;241;43m.\u001b[39;49m\u001b[43mexecutemany\u001b[49m\u001b[43m(\u001b[49m\u001b[43minsert_query\u001b[49m\u001b[43m,\u001b[49m\u001b[43m \u001b[49m\u001b[43mdata\u001b[49m\u001b[43m)\u001b[49m\n\u001b[1;32m     64\u001b[0m conn\u001b[38;5;241m.\u001b[39mcommit()\n\u001b[1;32m     65\u001b[0m cursor\u001b[38;5;241m.\u001b[39mclose()\n",
      "\u001b[0;31mProgrammingError\u001b[0m: ('42000', '[42000] [Microsoft][ODBC Driver 18 for SQL Server][SQL Server]The incoming tabular data stream (TDS) remote procedure call (RPC) protocol stream is incorrect. Parameter 2 (\"\"): The supplied value is not a valid instance of data type float. Check the source data for invalid values. An example of an invalid value is data of numeric type with scale greater than precision. (8023) (SQLParamData)')"
     ]
    }
   ],
   "source": [
    "import os \n",
    "\n",
    "for file in os.listdir(\"backend/code_execution/data/\"):\n",
    "    if '.csv' in file:\n",
    "        add_table_from_csv(file)"
   ]
  },
  {
   "cell_type": "code",
   "execution_count": null,
   "metadata": {},
   "outputs": [],
   "source": []
  },
  {
   "cell_type": "code",
   "execution_count": null,
   "metadata": {},
   "outputs": [],
   "source": []
  },
  {
   "cell_type": "code",
   "execution_count": null,
   "metadata": {},
   "outputs": [],
   "source": []
  },
  {
   "cell_type": "code",
   "execution_count": null,
   "metadata": {},
   "outputs": [],
   "source": []
  },
  {
   "cell_type": "code",
   "execution_count": null,
   "metadata": {},
   "outputs": [],
   "source": []
  },
  {
   "cell_type": "code",
   "execution_count": null,
   "metadata": {},
   "outputs": [],
   "source": []
  },
  {
   "cell_type": "code",
   "execution_count": 10,
   "metadata": {},
   "outputs": [
    {
     "ename": "NameError",
     "evalue": "name 'academic_df' is not defined",
     "output_type": "error",
     "traceback": [
      "\u001b[0;31m---------------------------------------------------------------------------\u001b[0m",
      "\u001b[0;31mNameError\u001b[0m                                 Traceback (most recent call last)",
      "Cell \u001b[0;32mIn[10], line 1\u001b[0m\n\u001b[0;32m----> 1\u001b[0m \u001b[43macademic_df\u001b[49m\u001b[38;5;241m.\u001b[39mdtypes\n",
      "\u001b[0;31mNameError\u001b[0m: name 'academic_df' is not defined"
     ]
    }
   ],
   "source": [
    "academic_df.dtypes"
   ]
  },
  {
   "cell_type": "code",
   "execution_count": null,
   "metadata": {},
   "outputs": [],
   "source": [
    "import pyodbc\n",
    "import pandas as pd\n",
    "\n",
    "# Connection string\n",
    "server = 'azuresqledge'\n",
    "database = 'datasets'\n",
    "username = 'sa'\n",
    "password = 'YourStrongPassword'\n",
    "\n",
    "conn_str = (\n",
    "    f'DRIVER={{ODBC Driver 18 for SQL Server}};'\n",
    "    f'SERVER={server};'\n",
    "    f'DATABASE={database};'\n",
    "    f'UID={username};'\n",
    "    f'PWD={password};'\n",
    "    'TrustServerCertificate=yes;'\n",
    "    'Encrypt=yes;'\n",
    ")\n",
    "\n",
    "# Create DataFrame (assuming you have this data in a CSV file)\n",
    "df = pd.read_csv(\"path/to/your/csv_file.csv\")\n",
    "\n",
    "try:\n",
    "    conn = pyodbc.connect(conn_str)\n",
    "    cursor = conn.cursor()\n",
    "\n",
    "    # Create table\n",
    "    create_table_query = \"\"\"\n",
    "    CREATE TABLE international_students (\n",
    "        id INT IDENTITY(1,1) PRIMARY KEY,\n",
    "        year VARCHAR(7),\n",
    "        students INT,\n",
    "        us_students FLOAT,\n",
    "        undergraduate FLOAT,\n",
    "        graduate FLOAT,\n",
    "        non_degree FLOAT,\n",
    "        opt FLOAT\n",
    "    )\n",
    "    \"\"\"\n",
    "    cursor.execute(create_table_query)\n",
    "    conn.commit()\n",
    "    print(\"Table created successfully.\")\n",
    "\n",
    "    # Insert data\n",
    "    for index, row in df.iterrows():\n",
    "        insert_query = \"\"\"\n",
    "        INSERT INTO international_students (year, students, us_students, undergraduate, graduate, non_degree, opt)\n",
    "        VALUES (?, ?, ?, ?, ?, ?, ?)\n",
    "        \"\"\"\n",
    "        cursor.execute(insert_query, \n",
    "                       row['year'], \n",
    "                       row['students'], \n",
    "                       row['us_students'], \n",
    "                       row['undergraduate'], \n",
    "                       row['graduate'], \n",
    "                       row['non_degree'], \n",
    "                       row['opt'])\n",
    "    \n",
    "    conn.commit()\n",
    "    print(\"Data inserted successfully.\")\n",
    "\n",
    "except pyodbc.Error as e:\n",
    "    print(f\"An error occurred: {e}\")\n",
    "\n",
    "finally:\n",
    "    if 'cursor' in locals():\n",
    "        cursor.close()\n",
    "    if 'conn' in locals():\n",
    "        conn.close()"
   ]
  }
 ],
 "metadata": {
  "kernelspec": {
   "display_name": "memory-7yvjw6ke-py3.12",
   "language": "python",
   "name": "python3"
  },
  "language_info": {
   "codemirror_mode": {
    "name": "ipython",
    "version": 3
   },
   "file_extension": ".py",
   "mimetype": "text/x-python",
   "name": "python",
   "nbconvert_exporter": "python",
   "pygments_lexer": "ipython3",
   "version": "3.12.7"
  }
 },
 "nbformat": 4,
 "nbformat_minor": 2
}
