{
 "cells": [
  {
   "cell_type": "markdown",
   "metadata": {},
   "source": [
    "\n",
    "    CREATE TABLE IF NOT EXISTS code_completion \n",
    "        id INTEGER PRIMARY KEY AUTOINCREMENT,\n",
    "        note_id INTEGER,\n",
    "        dataframe_header JSON,\n",
    "        solution_dataframe JSON,\n",
    "        problem_description TEXT,\n",
    "        dataset_path TEXT,\n",
    "        FOREIGN KEY (note_id) REFERENCES notes (id)           \n"
   ]
  },
  {
   "cell_type": "code",
   "execution_count": 1,
   "metadata": {},
   "outputs": [],
   "source": [
    "import sqlite3\n",
    "\n",
    "def write_example_to_db(dataframe_head, dataframe_target, dataset_path, description):\n",
    "    conn = sqlite3.connect(\"../../flashcards.db\")\n",
    "    cursor = conn.cursor()\n",
    "    cursor.execute(\"INSERT INTO notes DEFAULT VALUES\")\n",
    "    note_id = cursor.lastrowid\n",
    "    cursor.execute(\n",
    "        \"INSERT INTO code_completion (note_id, dataframe_header, solution_dataframe, problem_description, dataset_path) VALUES (?, ?, ?, ?, ?)\",\n",
    "        (note_id, dataframe_head.to_json(), dataframe_target.to_json(), description, dataset_path),\n",
    "    )\n",
    "    conn.commit()\n",
    "    conn.close()\n"
   ]
  },
  {
   "cell_type": "code",
   "execution_count": null,
   "metadata": {},
   "outputs": [],
   "source": []
  },
  {
   "cell_type": "code",
   "execution_count": 1,
   "metadata": {},
   "outputs": [],
   "source": [
    "import polars as pl\n",
    "import pandas as pd \n",
    "\n",
    "\n",
    "dataset_path = \"backend/code_completion/data/contoso_sales.csv\"\n",
    "\n",
    "df = pl.read_csv(\"../../\"+dataset_path)\n",
    "\n",
    "# transformation\n",
    "result = (\n",
    "    df\n",
    "    .group_by('Brand')\n",
    "    .agg(pl.col('Quantity').sum().alias('Sum of Quantity'))\n",
    ")\n",
    "\n",
    "input_header = pd.DataFrame(df.head(3).to_dict())\n",
    "\n",
    "result = pd.DataFrame(result.to_dict())\n",
    "\n",
    "description = \"Summarise the brand column by taking the sum of Quanaity, naming the new column 'Sum of Quanity'\"\n",
    "# \n",
    "#write_example_to_db(input_header, result, dataset_path, description)"
   ]
  },
  {
   "cell_type": "code",
   "execution_count": 13,
   "metadata": {},
   "outputs": [
    {
     "data": {
      "text/html": [
       "<div><style>\n",
       ".dataframe > thead > tr,\n",
       ".dataframe > tbody > tr {\n",
       "  text-align: right;\n",
       "  white-space: pre-wrap;\n",
       "}\n",
       "</style>\n",
       "<small>shape: (1, 1)</small><table border=\"1\" class=\"dataframe\"><thead><tr><th>column_0</th></tr><tr><td>i64</td></tr></thead><tbody><tr><td>0</td></tr></tbody></table></div>"
      ],
      "text/plain": [
       "shape: (1, 1)\n",
       "┌──────────┐\n",
       "│ column_0 │\n",
       "│ ---      │\n",
       "│ i64      │\n",
       "╞══════════╡\n",
       "│ 0        │\n",
       "└──────────┘"
      ]
     },
     "execution_count": 13,
     "metadata": {},
     "output_type": "execute_result"
    }
   ],
   "source": [
    "def conv_to_dataframe(x):\n",
    "    if type(x) != pl.DataFrame:\n",
    "        return pl.DataFrame([x])\n",
    "    return x \n",
    "\n",
    "# Chp3 examples \n",
    "dataset_path = \"backend/code_completion/data/covid_19_deaths.csv\"\n",
    "df = pl.read_csv(\"../../\"+dataset_path)\n",
    "input_header = pd.DataFrame(df.head(3).to_dict())\n",
    "result = df.is_duplicated().sum()\n",
    "result = conv_to_dataframe(result)\n",
    "result"
   ]
  },
  {
   "cell_type": "code",
   "execution_count": 17,
   "metadata": {},
   "outputs": [
    {
     "data": {
      "text/html": [
       "<div><style>\n",
       ".dataframe > thead > tr,\n",
       ".dataframe > tbody > tr {\n",
       "  text-align: right;\n",
       "  white-space: pre-wrap;\n",
       "}\n",
       "</style>\n",
       "<small>shape: (1, 16)</small><table border=\"1\" class=\"dataframe\"><thead><tr><th>Data As Of</th><th>Start Date</th><th>End Date</th><th>Group</th><th>Year</th><th>Month</th><th>State</th><th>Sex</th><th>Age Group</th><th>COVID-19 Deaths</th><th>Total Deaths</th><th>Pneumonia Deaths</th><th>Pneumonia and COVID-19 Deaths</th><th>Influenza Deaths</th><th>Pneumonia, Influenza, or COVID-19 Deaths</th><th>Footnote</th></tr><tr><td>u32</td><td>u32</td><td>u32</td><td>u32</td><td>u32</td><td>u32</td><td>u32</td><td>u32</td><td>u32</td><td>u32</td><td>u32</td><td>u32</td><td>u32</td><td>u32</td><td>u32</td><td>u32</td></tr></thead><tbody><tr><td>1</td><td>45</td><td>45</td><td>3</td><td>5</td><td>13</td><td>54</td><td>3</td><td>17</td><td>3537</td><td>10307</td><td>3556</td><td>2533</td><td>493</td><td>4264</td><td>2</td></tr></tbody></table></div>"
      ],
      "text/plain": [
       "shape: (1, 16)\n",
       "┌────────────┬────────────┬──────────┬───────┬───┬────────────┬────────────┬────────────┬──────────┐\n",
       "│ Data As Of ┆ Start Date ┆ End Date ┆ Group ┆ … ┆ Pneumonia  ┆ Influenza  ┆ Pneumonia, ┆ Footnote │\n",
       "│ ---        ┆ ---        ┆ ---      ┆ ---   ┆   ┆ and        ┆ Deaths     ┆ Influenza, ┆ ---      │\n",
       "│ u32        ┆ u32        ┆ u32      ┆ u32   ┆   ┆ COVID-19   ┆ ---        ┆ or COVID…  ┆ u32      │\n",
       "│            ┆            ┆          ┆       ┆   ┆ Deaths     ┆ u32        ┆ ---        ┆          │\n",
       "│            ┆            ┆          ┆       ┆   ┆ ---        ┆            ┆ u32        ┆          │\n",
       "│            ┆            ┆          ┆       ┆   ┆ u32        ┆            ┆            ┆          │\n",
       "╞════════════╪════════════╪══════════╪═══════╪═══╪════════════╪════════════╪════════════╪══════════╡\n",
       "│ 1          ┆ 45         ┆ 45       ┆ 3     ┆ … ┆ 2533       ┆ 493        ┆ 4264       ┆ 2        │\n",
       "└────────────┴────────────┴──────────┴───────┴───┴────────────┴────────────┴────────────┴──────────┘"
      ]
     },
     "execution_count": 17,
     "metadata": {},
     "output_type": "execute_result"
    }
   ],
   "source": [
    "# counting unique for each \n",
    "description = 'count unique of each column'\n",
    "result = df.select(pl.all().n_unique())\n",
    "write_example_to_db(input_header, result, dataset_path, description)"
   ]
  },
  {
   "cell_type": "code",
   "execution_count": 19,
   "metadata": {},
   "outputs": [
    {
     "data": {
      "text/html": [
       "<div><style>\n",
       ".dataframe > thead > tr,\n",
       ".dataframe > tbody > tr {\n",
       "  text-align: right;\n",
       "  white-space: pre-wrap;\n",
       "}\n",
       "</style>\n",
       "<small>shape: (3_940, 16)</small><table border=\"1\" class=\"dataframe\"><thead><tr><th>Data As Of</th><th>Start Date</th><th>End Date</th><th>Group</th><th>Year</th><th>Month</th><th>State</th><th>Sex</th><th>Age Group</th><th>COVID-19 Deaths</th><th>Total Deaths</th><th>Pneumonia Deaths</th><th>Pneumonia and COVID-19 Deaths</th><th>Influenza Deaths</th><th>Pneumonia, Influenza, or COVID-19 Deaths</th><th>Footnote</th></tr><tr><td>str</td><td>str</td><td>str</td><td>str</td><td>str</td><td>str</td><td>str</td><td>str</td><td>str</td><td>i64</td><td>i64</td><td>i64</td><td>i64</td><td>i64</td><td>i64</td><td>str</td></tr></thead><tbody><tr><td>&quot;09/27/2023&quot;</td><td>&quot;01/01/2020&quot;</td><td>&quot;09/23/2023&quot;</td><td>&quot;By Total&quot;</td><td>null</td><td>null</td><td>&quot;United States&quot;</td><td>&quot;All Sexes&quot;</td><td>&quot;All Ages&quot;</td><td>1146774</td><td>12303399</td><td>1162844</td><td>569264</td><td>22229</td><td>1760095</td><td>null</td></tr><tr><td>&quot;09/27/2023&quot;</td><td>&quot;01/01/2020&quot;</td><td>&quot;09/23/2023&quot;</td><td>&quot;By Total&quot;</td><td>null</td><td>null</td><td>&quot;United States&quot;</td><td>&quot;All Sexes&quot;</td><td>&quot;Under 1 year&quot;</td><td>519</td><td>73213</td><td>1056</td><td>95</td><td>64</td><td>1541</td><td>null</td></tr><tr><td>&quot;09/27/2023&quot;</td><td>&quot;01/01/2020&quot;</td><td>&quot;09/23/2023&quot;</td><td>&quot;By Total&quot;</td><td>null</td><td>null</td><td>&quot;United States&quot;</td><td>&quot;All Sexes&quot;</td><td>&quot;0-17 years&quot;</td><td>1696</td><td>130970</td><td>2961</td><td>424</td><td>509</td><td>4716</td><td>null</td></tr><tr><td>&quot;09/27/2023&quot;</td><td>&quot;01/01/2020&quot;</td><td>&quot;09/23/2023&quot;</td><td>&quot;By Total&quot;</td><td>null</td><td>null</td><td>&quot;United States&quot;</td><td>&quot;All Sexes&quot;</td><td>&quot;1-4 years&quot;</td><td>285</td><td>14299</td><td>692</td><td>66</td><td>177</td><td>1079</td><td>null</td></tr><tr><td>&quot;09/27/2023&quot;</td><td>&quot;01/01/2020&quot;</td><td>&quot;09/23/2023&quot;</td><td>&quot;By Total&quot;</td><td>null</td><td>null</td><td>&quot;United States&quot;</td><td>&quot;All Sexes&quot;</td><td>&quot;5-14 years&quot;</td><td>509</td><td>22008</td><td>818</td><td>143</td><td>219</td><td>1390</td><td>null</td></tr><tr><td>&hellip;</td><td>&hellip;</td><td>&hellip;</td><td>&hellip;</td><td>&hellip;</td><td>&hellip;</td><td>&hellip;</td><td>&hellip;</td><td>&hellip;</td><td>&hellip;</td><td>&hellip;</td><td>&hellip;</td><td>&hellip;</td><td>&hellip;</td><td>&hellip;</td><td>&hellip;</td></tr><tr><td>&quot;09/27/2023&quot;</td><td>&quot;12/01/2020&quot;</td><td>&quot;12/31/2020&quot;</td><td>&quot;By Month&quot;</td><td>&quot;2020&quot;</td><td>&quot;12&quot;</td><td>&quot;Wisconsin&quot;</td><td>&quot;Female&quot;</td><td>&quot;All Ages&quot;</td><td>876</td><td>3235</td><td>335</td><td>246</td><td>null</td><td>965</td><td>&quot;One or more data cells have co…</td></tr><tr><td>&quot;09/27/2023&quot;</td><td>&quot;12/01/2021&quot;</td><td>&quot;12/31/2021&quot;</td><td>&quot;By Month&quot;</td><td>&quot;2021&quot;</td><td>&quot;12&quot;</td><td>&quot;Wisconsin&quot;</td><td>&quot;All Sexes&quot;</td><td>&quot;All Ages&quot;</td><td>1341</td><td>6468</td><td>813</td><td>569</td><td>null</td><td>1589</td><td>&quot;One or more data cells have co…</td></tr><tr><td>&quot;09/27/2023&quot;</td><td>&quot;01/01/2022&quot;</td><td>&quot;01/31/2022&quot;</td><td>&quot;By Month&quot;</td><td>&quot;2022&quot;</td><td>&quot;1&quot;</td><td>&quot;Wisconsin&quot;</td><td>&quot;All Sexes&quot;</td><td>&quot;All Ages&quot;</td><td>1476</td><td>6746</td><td>766</td><td>550</td><td>16</td><td>1705</td><td>null</td></tr><tr><td>&quot;09/27/2023&quot;</td><td>&quot;01/01/2022&quot;</td><td>&quot;01/31/2022&quot;</td><td>&quot;By Month&quot;</td><td>&quot;2022&quot;</td><td>&quot;1&quot;</td><td>&quot;Wisconsin&quot;</td><td>&quot;Male&quot;</td><td>&quot;All Ages&quot;</td><td>823</td><td>3549</td><td>447</td><td>337</td><td>null</td><td>936</td><td>&quot;One or more data cells have co…</td></tr><tr><td>&quot;09/27/2023&quot;</td><td>&quot;01/01/2022&quot;</td><td>&quot;01/31/2022&quot;</td><td>&quot;By Month&quot;</td><td>&quot;2022&quot;</td><td>&quot;1&quot;</td><td>&quot;Puerto Rico&quot;</td><td>&quot;All Sexes&quot;</td><td>&quot;All Ages&quot;</td><td>625</td><td>3699</td><td>802</td><td>432</td><td>null</td><td>997</td><td>&quot;One or more data cells have co…</td></tr></tbody></table></div>"
      ],
      "text/plain": [
       "shape: (3_940, 16)\n",
       "┌───────────┬───────────┬───────────┬──────────┬───┬───────────┬───────────┬───────────┬───────────┐\n",
       "│ Data As   ┆ Start     ┆ End Date  ┆ Group    ┆ … ┆ Pneumonia ┆ Influenza ┆ Pneumonia ┆ Footnote  │\n",
       "│ Of        ┆ Date      ┆ ---       ┆ ---      ┆   ┆ and       ┆ Deaths    ┆ , Influen ┆ ---       │\n",
       "│ ---       ┆ ---       ┆ str       ┆ str      ┆   ┆ COVID-19  ┆ ---       ┆ za, or    ┆ str       │\n",
       "│ str       ┆ str       ┆           ┆          ┆   ┆ Deaths    ┆ i64       ┆ COVID…    ┆           │\n",
       "│           ┆           ┆           ┆          ┆   ┆ ---       ┆           ┆ ---       ┆           │\n",
       "│           ┆           ┆           ┆          ┆   ┆ i64       ┆           ┆ i64       ┆           │\n",
       "╞═══════════╪═══════════╪═══════════╪══════════╪═══╪═══════════╪═══════════╪═══════════╪═══════════╡\n",
       "│ 09/27/202 ┆ 01/01/202 ┆ 09/23/202 ┆ By Total ┆ … ┆ 569264    ┆ 22229     ┆ 1760095   ┆ null      │\n",
       "│ 3         ┆ 0         ┆ 3         ┆          ┆   ┆           ┆           ┆           ┆           │\n",
       "│ 09/27/202 ┆ 01/01/202 ┆ 09/23/202 ┆ By Total ┆ … ┆ 95        ┆ 64        ┆ 1541      ┆ null      │\n",
       "│ 3         ┆ 0         ┆ 3         ┆          ┆   ┆           ┆           ┆           ┆           │\n",
       "│ 09/27/202 ┆ 01/01/202 ┆ 09/23/202 ┆ By Total ┆ … ┆ 424       ┆ 509       ┆ 4716      ┆ null      │\n",
       "│ 3         ┆ 0         ┆ 3         ┆          ┆   ┆           ┆           ┆           ┆           │\n",
       "│ 09/27/202 ┆ 01/01/202 ┆ 09/23/202 ┆ By Total ┆ … ┆ 66        ┆ 177       ┆ 1079      ┆ null      │\n",
       "│ 3         ┆ 0         ┆ 3         ┆          ┆   ┆           ┆           ┆           ┆           │\n",
       "│ 09/27/202 ┆ 01/01/202 ┆ 09/23/202 ┆ By Total ┆ … ┆ 143       ┆ 219       ┆ 1390      ┆ null      │\n",
       "│ 3         ┆ 0         ┆ 3         ┆          ┆   ┆           ┆           ┆           ┆           │\n",
       "│ …         ┆ …         ┆ …         ┆ …        ┆ … ┆ …         ┆ …         ┆ …         ┆ …         │\n",
       "│ 09/27/202 ┆ 12/01/202 ┆ 12/31/202 ┆ By Month ┆ … ┆ 246       ┆ null      ┆ 965       ┆ One or    │\n",
       "│ 3         ┆ 0         ┆ 0         ┆          ┆   ┆           ┆           ┆           ┆ more data │\n",
       "│           ┆           ┆           ┆          ┆   ┆           ┆           ┆           ┆ cells     │\n",
       "│           ┆           ┆           ┆          ┆   ┆           ┆           ┆           ┆ have co…  │\n",
       "│ 09/27/202 ┆ 12/01/202 ┆ 12/31/202 ┆ By Month ┆ … ┆ 569       ┆ null      ┆ 1589      ┆ One or    │\n",
       "│ 3         ┆ 1         ┆ 1         ┆          ┆   ┆           ┆           ┆           ┆ more data │\n",
       "│           ┆           ┆           ┆          ┆   ┆           ┆           ┆           ┆ cells     │\n",
       "│           ┆           ┆           ┆          ┆   ┆           ┆           ┆           ┆ have co…  │\n",
       "│ 09/27/202 ┆ 01/01/202 ┆ 01/31/202 ┆ By Month ┆ … ┆ 550       ┆ 16        ┆ 1705      ┆ null      │\n",
       "│ 3         ┆ 2         ┆ 2         ┆          ┆   ┆           ┆           ┆           ┆           │\n",
       "│ 09/27/202 ┆ 01/01/202 ┆ 01/31/202 ┆ By Month ┆ … ┆ 337       ┆ null      ┆ 936       ┆ One or    │\n",
       "│ 3         ┆ 2         ┆ 2         ┆          ┆   ┆           ┆           ┆           ┆ more data │\n",
       "│           ┆           ┆           ┆          ┆   ┆           ┆           ┆           ┆ cells     │\n",
       "│           ┆           ┆           ┆          ┆   ┆           ┆           ┆           ┆ have co…  │\n",
       "│ 09/27/202 ┆ 01/01/202 ┆ 01/31/202 ┆ By Month ┆ … ┆ 432       ┆ null      ┆ 997       ┆ One or    │\n",
       "│ 3         ┆ 2         ┆ 2         ┆          ┆   ┆           ┆           ┆           ┆ more data │\n",
       "│           ┆           ┆           ┆          ┆   ┆           ┆           ┆           ┆ cells     │\n",
       "│           ┆           ┆           ┆          ┆   ┆           ┆           ┆           ┆ have co…  │\n",
       "└───────────┴───────────┴───────────┴──────────┴───┴───────────┴───────────┴───────────┴───────────┘"
      ]
     },
     "execution_count": 19,
     "metadata": {},
     "output_type": "execute_result"
    }
   ],
   "source": [
    "description = 'Drop all non-unique rows for combination of columns \"Year\" and \"COVID-19 Deaths\"'\n",
    "result = df.filter(df.select(['Year', 'COVID-19 Deaths']).is_unique())\n",
    "result"
   ]
  },
  {
   "cell_type": "code",
   "execution_count": 25,
   "metadata": {},
   "outputs": [
    {
     "data": {
      "text/html": [
       "<div><style>\n",
       ".dataframe > thead > tr,\n",
       ".dataframe > tbody > tr {\n",
       "  text-align: right;\n",
       "  white-space: pre-wrap;\n",
       "}\n",
       "</style>\n",
       "<small>shape: (14_917, 16)</small><table border=\"1\" class=\"dataframe\"><thead><tr><th>Data As Of</th><th>Start Date</th><th>End Date</th><th>Group</th><th>Year</th><th>Month</th><th>State</th><th>Sex</th><th>Age Group</th><th>COVID-19 Deaths</th><th>Total Deaths</th><th>Pneumonia Deaths</th><th>Pneumonia and COVID-19 Deaths</th><th>Influenza Deaths</th><th>Pneumonia, Influenza, or COVID-19 Deaths</th><th>Footnote</th></tr><tr><td>str</td><td>str</td><td>str</td><td>str</td><td>str</td><td>str</td><td>str</td><td>str</td><td>str</td><td>i64</td><td>i64</td><td>i64</td><td>i64</td><td>i64</td><td>i64</td><td>str</td></tr></thead><tbody><tr><td>&quot;09/27/2023&quot;</td><td>&quot;01/01/2020&quot;</td><td>&quot;09/23/2023&quot;</td><td>&quot;By Total&quot;</td><td>null</td><td>null</td><td>&quot;United States&quot;</td><td>&quot;All Sexes&quot;</td><td>&quot;All Ages&quot;</td><td>1146774</td><td>12303399</td><td>1162844</td><td>569264</td><td>22229</td><td>1760095</td><td>null</td></tr><tr><td>&quot;09/27/2023&quot;</td><td>&quot;01/01/2020&quot;</td><td>&quot;09/23/2023&quot;</td><td>&quot;By Total&quot;</td><td>null</td><td>null</td><td>&quot;United States&quot;</td><td>&quot;All Sexes&quot;</td><td>&quot;Under 1 year&quot;</td><td>519</td><td>73213</td><td>1056</td><td>95</td><td>64</td><td>1541</td><td>null</td></tr><tr><td>&quot;09/27/2023&quot;</td><td>&quot;01/01/2020&quot;</td><td>&quot;09/23/2023&quot;</td><td>&quot;By Total&quot;</td><td>null</td><td>null</td><td>&quot;United States&quot;</td><td>&quot;All Sexes&quot;</td><td>&quot;0-17 years&quot;</td><td>1696</td><td>130970</td><td>2961</td><td>424</td><td>509</td><td>4716</td><td>null</td></tr><tr><td>&quot;09/27/2023&quot;</td><td>&quot;01/01/2020&quot;</td><td>&quot;09/23/2023&quot;</td><td>&quot;By Total&quot;</td><td>null</td><td>null</td><td>&quot;United States&quot;</td><td>&quot;All Sexes&quot;</td><td>&quot;1-4 years&quot;</td><td>285</td><td>14299</td><td>692</td><td>66</td><td>177</td><td>1079</td><td>null</td></tr><tr><td>&quot;09/27/2023&quot;</td><td>&quot;01/01/2020&quot;</td><td>&quot;09/23/2023&quot;</td><td>&quot;By Total&quot;</td><td>null</td><td>null</td><td>&quot;United States&quot;</td><td>&quot;All Sexes&quot;</td><td>&quot;5-14 years&quot;</td><td>509</td><td>22008</td><td>818</td><td>143</td><td>219</td><td>1390</td><td>null</td></tr><tr><td>&hellip;</td><td>&hellip;</td><td>&hellip;</td><td>&hellip;</td><td>&hellip;</td><td>&hellip;</td><td>&hellip;</td><td>&hellip;</td><td>&hellip;</td><td>&hellip;</td><td>&hellip;</td><td>&hellip;</td><td>&hellip;</td><td>&hellip;</td><td>&hellip;</td><td>&hellip;</td></tr><tr><td>&quot;09/27/2023&quot;</td><td>&quot;07/01/2022&quot;</td><td>&quot;07/31/2022&quot;</td><td>&quot;By Month&quot;</td><td>&quot;2022&quot;</td><td>&quot;7&quot;</td><td>&quot;Puerto Rico&quot;</td><td>&quot;All Sexes&quot;</td><td>&quot;All Ages&quot;</td><td>204</td><td>2982</td><td>408</td><td>133</td><td>null</td><td>481</td><td>&quot;One or more data cells have co…</td></tr><tr><td>&quot;09/27/2023&quot;</td><td>&quot;08/01/2022&quot;</td><td>&quot;08/31/2022&quot;</td><td>&quot;By Month&quot;</td><td>&quot;2022&quot;</td><td>&quot;8&quot;</td><td>&quot;Puerto Rico&quot;</td><td>&quot;All Sexes&quot;</td><td>&quot;All Ages&quot;</td><td>225</td><td>3002</td><td>437</td><td>137</td><td>null</td><td>531</td><td>&quot;One or more data cells have co…</td></tr><tr><td>&quot;09/27/2023&quot;</td><td>&quot;09/01/2022&quot;</td><td>&quot;09/30/2022&quot;</td><td>&quot;By Month&quot;</td><td>&quot;2022&quot;</td><td>&quot;9&quot;</td><td>&quot;Puerto Rico&quot;</td><td>&quot;All Sexes&quot;</td><td>&quot;All Ages&quot;</td><td>169</td><td>2841</td><td>401</td><td>118</td><td>null</td><td>457</td><td>&quot;One or more data cells have co…</td></tr><tr><td>&quot;09/27/2023&quot;</td><td>&quot;12/01/2022&quot;</td><td>&quot;12/31/2022&quot;</td><td>&quot;By Month&quot;</td><td>&quot;2022&quot;</td><td>&quot;12&quot;</td><td>&quot;Puerto Rico&quot;</td><td>&quot;All Sexes&quot;</td><td>&quot;All Ages&quot;</td><td>172</td><td>3217</td><td>488</td><td>107</td><td>25</td><td>574</td><td>null</td></tr><tr><td>&quot;09/27/2023&quot;</td><td>&quot;01/01/2023&quot;</td><td>&quot;01/31/2023&quot;</td><td>&quot;By Month&quot;</td><td>&quot;2023&quot;</td><td>&quot;1&quot;</td><td>&quot;Puerto Rico&quot;</td><td>&quot;All Sexes&quot;</td><td>&quot;All Ages&quot;</td><td>163</td><td>3200</td><td>470</td><td>106</td><td>12</td><td>538</td><td>null</td></tr></tbody></table></div>"
      ],
      "text/plain": [
       "shape: (14_917, 16)\n",
       "┌───────────┬───────────┬───────────┬──────────┬───┬───────────┬───────────┬───────────┬───────────┐\n",
       "│ Data As   ┆ Start     ┆ End Date  ┆ Group    ┆ … ┆ Pneumonia ┆ Influenza ┆ Pneumonia ┆ Footnote  │\n",
       "│ Of        ┆ Date      ┆ ---       ┆ ---      ┆   ┆ and       ┆ Deaths    ┆ , Influen ┆ ---       │\n",
       "│ ---       ┆ ---       ┆ str       ┆ str      ┆   ┆ COVID-19  ┆ ---       ┆ za, or    ┆ str       │\n",
       "│ str       ┆ str       ┆           ┆          ┆   ┆ Deaths    ┆ i64       ┆ COVID…    ┆           │\n",
       "│           ┆           ┆           ┆          ┆   ┆ ---       ┆           ┆ ---       ┆           │\n",
       "│           ┆           ┆           ┆          ┆   ┆ i64       ┆           ┆ i64       ┆           │\n",
       "╞═══════════╪═══════════╪═══════════╪══════════╪═══╪═══════════╪═══════════╪═══════════╪═══════════╡\n",
       "│ 09/27/202 ┆ 01/01/202 ┆ 09/23/202 ┆ By Total ┆ … ┆ 569264    ┆ 22229     ┆ 1760095   ┆ null      │\n",
       "│ 3         ┆ 0         ┆ 3         ┆          ┆   ┆           ┆           ┆           ┆           │\n",
       "│ 09/27/202 ┆ 01/01/202 ┆ 09/23/202 ┆ By Total ┆ … ┆ 95        ┆ 64        ┆ 1541      ┆ null      │\n",
       "│ 3         ┆ 0         ┆ 3         ┆          ┆   ┆           ┆           ┆           ┆           │\n",
       "│ 09/27/202 ┆ 01/01/202 ┆ 09/23/202 ┆ By Total ┆ … ┆ 424       ┆ 509       ┆ 4716      ┆ null      │\n",
       "│ 3         ┆ 0         ┆ 3         ┆          ┆   ┆           ┆           ┆           ┆           │\n",
       "│ 09/27/202 ┆ 01/01/202 ┆ 09/23/202 ┆ By Total ┆ … ┆ 66        ┆ 177       ┆ 1079      ┆ null      │\n",
       "│ 3         ┆ 0         ┆ 3         ┆          ┆   ┆           ┆           ┆           ┆           │\n",
       "│ 09/27/202 ┆ 01/01/202 ┆ 09/23/202 ┆ By Total ┆ … ┆ 143       ┆ 219       ┆ 1390      ┆ null      │\n",
       "│ 3         ┆ 0         ┆ 3         ┆          ┆   ┆           ┆           ┆           ┆           │\n",
       "│ …         ┆ …         ┆ …         ┆ …        ┆ … ┆ …         ┆ …         ┆ …         ┆ …         │\n",
       "│ 09/27/202 ┆ 07/01/202 ┆ 07/31/202 ┆ By Month ┆ … ┆ 133       ┆ null      ┆ 481       ┆ One or    │\n",
       "│ 3         ┆ 2         ┆ 2         ┆          ┆   ┆           ┆           ┆           ┆ more data │\n",
       "│           ┆           ┆           ┆          ┆   ┆           ┆           ┆           ┆ cells     │\n",
       "│           ┆           ┆           ┆          ┆   ┆           ┆           ┆           ┆ have co…  │\n",
       "│ 09/27/202 ┆ 08/01/202 ┆ 08/31/202 ┆ By Month ┆ … ┆ 137       ┆ null      ┆ 531       ┆ One or    │\n",
       "│ 3         ┆ 2         ┆ 2         ┆          ┆   ┆           ┆           ┆           ┆ more data │\n",
       "│           ┆           ┆           ┆          ┆   ┆           ┆           ┆           ┆ cells     │\n",
       "│           ┆           ┆           ┆          ┆   ┆           ┆           ┆           ┆ have co…  │\n",
       "│ 09/27/202 ┆ 09/01/202 ┆ 09/30/202 ┆ By Month ┆ … ┆ 118       ┆ null      ┆ 457       ┆ One or    │\n",
       "│ 3         ┆ 2         ┆ 2         ┆          ┆   ┆           ┆           ┆           ┆ more data │\n",
       "│           ┆           ┆           ┆          ┆   ┆           ┆           ┆           ┆ cells     │\n",
       "│           ┆           ┆           ┆          ┆   ┆           ┆           ┆           ┆ have co…  │\n",
       "│ 09/27/202 ┆ 12/01/202 ┆ 12/31/202 ┆ By Month ┆ … ┆ 107       ┆ 25        ┆ 574       ┆ null      │\n",
       "│ 3         ┆ 2         ┆ 2         ┆          ┆   ┆           ┆           ┆           ┆           │\n",
       "│ 09/27/202 ┆ 01/01/202 ┆ 01/31/202 ┆ By Month ┆ … ┆ 106       ┆ 12        ┆ 538       ┆ null      │\n",
       "│ 3         ┆ 3         ┆ 3         ┆          ┆   ┆           ┆           ┆           ┆           │\n",
       "└───────────┴───────────┴───────────┴──────────┴───┴───────────┴───────────┴───────────┴───────────┘"
      ]
     },
     "execution_count": 25,
     "metadata": {},
     "output_type": "execute_result"
    }
   ],
   "source": [
    "q1 = pl.col('COVID-19 Deaths').quantile(0.25)\n",
    "q3 = pl.col('COVID-19 Deaths').quantile(0.75)\n",
    "iqr = q3 - q1\n",
    "threshold = 1.5\n",
    "lower_limit = q1 - iqr * threshold\n",
    "upper_limit = q3 + iqr * threshold\n",
    "\n",
    "description = \"Apply IQR filter with a threshold of 1.5 based on 'COVID-19 Deaths' to dataframe\"\n",
    "is_outlier_iqr = (pl.col('COVID-19 Deaths') < lower_limit) | (pl.col('COVID-19 Deaths') > upper_limit)\n",
    "df_iqr_outlier_removed = (\n",
    "    df\n",
    "    .filter(is_outlier_iqr.not_())\n",
    ")\n",
    "df_iqr_outlier_removed.filter(is_outlier_iqr)\n",
    "result"
   ]
  },
  {
   "cell_type": "code",
   "execution_count": 27,
   "metadata": {},
   "outputs": [
    {
     "data": {
      "text/html": [
       "<div><style>\n",
       ".dataframe > thead > tr,\n",
       ".dataframe > tbody > tr {\n",
       "  text-align: right;\n",
       "  white-space: pre-wrap;\n",
       "}\n",
       "</style>\n",
       "<small>shape: (137_700, 16)</small><table border=\"1\" class=\"dataframe\"><thead><tr><th>Data As Of</th><th>Start Date</th><th>End Date</th><th>Group</th><th>Year</th><th>Month</th><th>State</th><th>Sex</th><th>Age Group</th><th>COVID-19 Deaths</th><th>Total Deaths</th><th>Pneumonia Deaths</th><th>Pneumonia and COVID-19 Deaths</th><th>Influenza Deaths</th><th>Pneumonia, Influenza, or COVID-19 Deaths</th><th>Footnote</th></tr><tr><td>str</td><td>str</td><td>str</td><td>str</td><td>str</td><td>str</td><td>str</td><td>str</td><td>str</td><td>f64</td><td>i64</td><td>i64</td><td>i64</td><td>i64</td><td>i64</td><td>str</td></tr></thead><tbody><tr><td>&quot;09/27/2023&quot;</td><td>&quot;01/01/2020&quot;</td><td>&quot;09/23/2023&quot;</td><td>&quot;By Total&quot;</td><td>null</td><td>null</td><td>&quot;United States&quot;</td><td>&quot;All Sexes&quot;</td><td>&quot;All Ages&quot;</td><td>0.0</td><td>12303399</td><td>1162844</td><td>569264</td><td>22229</td><td>1760095</td><td>null</td></tr><tr><td>&quot;09/27/2023&quot;</td><td>&quot;01/01/2020&quot;</td><td>&quot;09/23/2023&quot;</td><td>&quot;By Total&quot;</td><td>null</td><td>null</td><td>&quot;United States&quot;</td><td>&quot;All Sexes&quot;</td><td>&quot;Under 1 year&quot;</td><td>0.0</td><td>73213</td><td>1056</td><td>95</td><td>64</td><td>1541</td><td>null</td></tr><tr><td>&quot;09/27/2023&quot;</td><td>&quot;01/01/2020&quot;</td><td>&quot;09/23/2023&quot;</td><td>&quot;By Total&quot;</td><td>null</td><td>null</td><td>&quot;United States&quot;</td><td>&quot;All Sexes&quot;</td><td>&quot;0-17 years&quot;</td><td>0.0</td><td>130970</td><td>2961</td><td>424</td><td>509</td><td>4716</td><td>null</td></tr><tr><td>&quot;09/27/2023&quot;</td><td>&quot;01/01/2020&quot;</td><td>&quot;09/23/2023&quot;</td><td>&quot;By Total&quot;</td><td>null</td><td>null</td><td>&quot;United States&quot;</td><td>&quot;All Sexes&quot;</td><td>&quot;1-4 years&quot;</td><td>0.0</td><td>14299</td><td>692</td><td>66</td><td>177</td><td>1079</td><td>null</td></tr><tr><td>&quot;09/27/2023&quot;</td><td>&quot;01/01/2020&quot;</td><td>&quot;09/23/2023&quot;</td><td>&quot;By Total&quot;</td><td>null</td><td>null</td><td>&quot;United States&quot;</td><td>&quot;All Sexes&quot;</td><td>&quot;5-14 years&quot;</td><td>0.0</td><td>22008</td><td>818</td><td>143</td><td>219</td><td>1390</td><td>null</td></tr><tr><td>&hellip;</td><td>&hellip;</td><td>&hellip;</td><td>&hellip;</td><td>&hellip;</td><td>&hellip;</td><td>&hellip;</td><td>&hellip;</td><td>&hellip;</td><td>&hellip;</td><td>&hellip;</td><td>&hellip;</td><td>&hellip;</td><td>&hellip;</td><td>&hellip;</td><td>&hellip;</td></tr><tr><td>&quot;09/27/2023&quot;</td><td>&quot;09/01/2023&quot;</td><td>&quot;09/23/2023&quot;</td><td>&quot;By Month&quot;</td><td>&quot;2023&quot;</td><td>&quot;9&quot;</td><td>&quot;Puerto Rico&quot;</td><td>&quot;Female&quot;</td><td>&quot;50-64 years&quot;</td><td>null</td><td>75</td><td>14</td><td>null</td><td>0</td><td>14</td><td>&quot;One or more data cells have co…</td></tr><tr><td>&quot;09/27/2023&quot;</td><td>&quot;09/01/2023&quot;</td><td>&quot;09/23/2023&quot;</td><td>&quot;By Month&quot;</td><td>&quot;2023&quot;</td><td>&quot;9&quot;</td><td>&quot;Puerto Rico&quot;</td><td>&quot;Female&quot;</td><td>&quot;55-64 years&quot;</td><td>0.0</td><td>65</td><td>10</td><td>0</td><td>0</td><td>10</td><td>null</td></tr><tr><td>&quot;09/27/2023&quot;</td><td>&quot;09/01/2023&quot;</td><td>&quot;09/23/2023&quot;</td><td>&quot;By Month&quot;</td><td>&quot;2023&quot;</td><td>&quot;9&quot;</td><td>&quot;Puerto Rico&quot;</td><td>&quot;Female&quot;</td><td>&quot;65-74 years&quot;</td><td>null</td><td>91</td><td>null</td><td>null</td><td>0</td><td>null</td><td>&quot;One or more data cells have co…</td></tr><tr><td>&quot;09/27/2023&quot;</td><td>&quot;09/01/2023&quot;</td><td>&quot;09/23/2023&quot;</td><td>&quot;By Month&quot;</td><td>&quot;2023&quot;</td><td>&quot;9&quot;</td><td>&quot;Puerto Rico&quot;</td><td>&quot;Female&quot;</td><td>&quot;75-84 years&quot;</td><td>null</td><td>211</td><td>36</td><td>null</td><td>0</td><td>38</td><td>&quot;One or more data cells have co…</td></tr><tr><td>&quot;09/27/2023&quot;</td><td>&quot;09/01/2023&quot;</td><td>&quot;09/23/2023&quot;</td><td>&quot;By Month&quot;</td><td>&quot;2023&quot;</td><td>&quot;9&quot;</td><td>&quot;Puerto Rico&quot;</td><td>&quot;Female&quot;</td><td>&quot;85 years and over&quot;</td><td>null</td><td>265</td><td>42</td><td>null</td><td>null</td><td>44</td><td>&quot;One or more data cells have co…</td></tr></tbody></table></div>"
      ],
      "text/plain": [
       "shape: (137_700, 16)\n",
       "┌───────────┬───────────┬───────────┬──────────┬───┬───────────┬───────────┬───────────┬───────────┐\n",
       "│ Data As   ┆ Start     ┆ End Date  ┆ Group    ┆ … ┆ Pneumonia ┆ Influenza ┆ Pneumonia ┆ Footnote  │\n",
       "│ Of        ┆ Date      ┆ ---       ┆ ---      ┆   ┆ and       ┆ Deaths    ┆ , Influen ┆ ---       │\n",
       "│ ---       ┆ ---       ┆ str       ┆ str      ┆   ┆ COVID-19  ┆ ---       ┆ za, or    ┆ str       │\n",
       "│ str       ┆ str       ┆           ┆          ┆   ┆ Deaths    ┆ i64       ┆ COVID…    ┆           │\n",
       "│           ┆           ┆           ┆          ┆   ┆ ---       ┆           ┆ ---       ┆           │\n",
       "│           ┆           ┆           ┆          ┆   ┆ i64       ┆           ┆ i64       ┆           │\n",
       "╞═══════════╪═══════════╪═══════════╪══════════╪═══╪═══════════╪═══════════╪═══════════╪═══════════╡\n",
       "│ 09/27/202 ┆ 01/01/202 ┆ 09/23/202 ┆ By Total ┆ … ┆ 569264    ┆ 22229     ┆ 1760095   ┆ null      │\n",
       "│ 3         ┆ 0         ┆ 3         ┆          ┆   ┆           ┆           ┆           ┆           │\n",
       "│ 09/27/202 ┆ 01/01/202 ┆ 09/23/202 ┆ By Total ┆ … ┆ 95        ┆ 64        ┆ 1541      ┆ null      │\n",
       "│ 3         ┆ 0         ┆ 3         ┆          ┆   ┆           ┆           ┆           ┆           │\n",
       "│ 09/27/202 ┆ 01/01/202 ┆ 09/23/202 ┆ By Total ┆ … ┆ 424       ┆ 509       ┆ 4716      ┆ null      │\n",
       "│ 3         ┆ 0         ┆ 3         ┆          ┆   ┆           ┆           ┆           ┆           │\n",
       "│ 09/27/202 ┆ 01/01/202 ┆ 09/23/202 ┆ By Total ┆ … ┆ 66        ┆ 177       ┆ 1079      ┆ null      │\n",
       "│ 3         ┆ 0         ┆ 3         ┆          ┆   ┆           ┆           ┆           ┆           │\n",
       "│ 09/27/202 ┆ 01/01/202 ┆ 09/23/202 ┆ By Total ┆ … ┆ 143       ┆ 219       ┆ 1390      ┆ null      │\n",
       "│ 3         ┆ 0         ┆ 3         ┆          ┆   ┆           ┆           ┆           ┆           │\n",
       "│ …         ┆ …         ┆ …         ┆ …        ┆ … ┆ …         ┆ …         ┆ …         ┆ …         │\n",
       "│ 09/27/202 ┆ 09/01/202 ┆ 09/23/202 ┆ By Month ┆ … ┆ null      ┆ 0         ┆ 14        ┆ One or    │\n",
       "│ 3         ┆ 3         ┆ 3         ┆          ┆   ┆           ┆           ┆           ┆ more data │\n",
       "│           ┆           ┆           ┆          ┆   ┆           ┆           ┆           ┆ cells     │\n",
       "│           ┆           ┆           ┆          ┆   ┆           ┆           ┆           ┆ have co…  │\n",
       "│ 09/27/202 ┆ 09/01/202 ┆ 09/23/202 ┆ By Month ┆ … ┆ 0         ┆ 0         ┆ 10        ┆ null      │\n",
       "│ 3         ┆ 3         ┆ 3         ┆          ┆   ┆           ┆           ┆           ┆           │\n",
       "│ 09/27/202 ┆ 09/01/202 ┆ 09/23/202 ┆ By Month ┆ … ┆ null      ┆ 0         ┆ null      ┆ One or    │\n",
       "│ 3         ┆ 3         ┆ 3         ┆          ┆   ┆           ┆           ┆           ┆ more data │\n",
       "│           ┆           ┆           ┆          ┆   ┆           ┆           ┆           ┆ cells     │\n",
       "│           ┆           ┆           ┆          ┆   ┆           ┆           ┆           ┆ have co…  │\n",
       "│ 09/27/202 ┆ 09/01/202 ┆ 09/23/202 ┆ By Month ┆ … ┆ null      ┆ 0         ┆ 38        ┆ One or    │\n",
       "│ 3         ┆ 3         ┆ 3         ┆          ┆   ┆           ┆           ┆           ┆ more data │\n",
       "│           ┆           ┆           ┆          ┆   ┆           ┆           ┆           ┆ cells     │\n",
       "│           ┆           ┆           ┆          ┆   ┆           ┆           ┆           ┆ have co…  │\n",
       "│ 09/27/202 ┆ 09/01/202 ┆ 09/23/202 ┆ By Month ┆ … ┆ null      ┆ null      ┆ 44        ┆ One or    │\n",
       "│ 3         ┆ 3         ┆ 3         ┆          ┆   ┆           ┆           ┆           ┆ more data │\n",
       "│           ┆           ┆           ┆          ┆   ┆           ┆           ┆           ┆ cells     │\n",
       "│           ┆           ┆           ┆          ┆   ┆           ┆           ┆           ┆ have co…  │\n",
       "└───────────┴───────────┴───────────┴──────────┴───┴───────────┴───────────┴───────────┴───────────┘"
      ]
     },
     "execution_count": 27,
     "metadata": {},
     "output_type": "execute_result"
    }
   ],
   "source": [
    "q1 = pl.col('COVID-19 Deaths').quantile(0.25)\n",
    "q3 = pl.col('COVID-19 Deaths').quantile(0.75)\n",
    "iqr = q3 - q1\n",
    "threshold = 1.5\n",
    "lower_limit = q1 - iqr * threshold\n",
    "upper_limit = q3 + iqr * threshold\n",
    "\n",
    "description = \"Apply IQR filter to replace outliers with median with a threshold of 1.5 based on 'COVID-19 Deaths' to dataframe\"\n",
    "is_outlier_iqr = (pl.col('COVID-19 Deaths') < lower_limit) | (pl.col('COVID-19 Deaths') > upper_limit)\n",
    "df_iqr_outlier_replaced = (\n",
    "    df\n",
    "    .with_columns(\n",
    "        pl.when(is_outlier_iqr)\n",
    "        .then(pl.col('COVID-19 Deaths').median())\n",
    "        .otherwise(pl.col('COVID-19 Deaths'))\n",
    "        .alias('COVID-19 Deaths')\n",
    "    )\n",
    ")\n",
    "df_iqr_outlier_replaced"
   ]
  },
  {
   "cell_type": "code",
   "execution_count": null,
   "metadata": {},
   "outputs": [],
   "source": []
  }
 ],
 "metadata": {
  "kernelspec": {
   "display_name": "memory-slim-yfBww1WE-py3.12",
   "language": "python",
   "name": "python3"
  },
  "language_info": {
   "codemirror_mode": {
    "name": "ipython",
    "version": 3
   },
   "file_extension": ".py",
   "mimetype": "text/x-python",
   "name": "python",
   "nbconvert_exporter": "python",
   "pygments_lexer": "ipython3",
   "version": "3.12.5"
  }
 },
 "nbformat": 4,
 "nbformat_minor": 2
}
