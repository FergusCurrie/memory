{
 "cells": [
  {
   "cell_type": "markdown",
   "metadata": {},
   "source": [
    "\n",
    "    CREATE TABLE IF NOT EXISTS code_completion \n",
    "        id INTEGER PRIMARY KEY AUTOINCREMENT,\n",
    "        note_id INTEGER,\n",
    "        dataframe_header JSON,\n",
    "        solution_dataframe JSON,\n",
    "        problem_description TEXT,\n",
    "        dataset_path TEXT,\n",
    "        FOREIGN KEY (note_id) REFERENCES notes (id)           \n"
   ]
  },
  {
   "cell_type": "code",
   "execution_count": 1,
   "metadata": {},
   "outputs": [],
   "source": [
    "import sqlite3\n",
    "\n",
    "def write_example_to_db(dataframe_head, dataframe_target, dataset_path, description):\n",
    "    conn = sqlite3.connect(\"../../flashcards.db\")\n",
    "    cursor = conn.cursor()\n",
    "    cursor.execute(\"INSERT INTO notes DEFAULT VALUES\")\n",
    "    note_id = cursor.lastrowid\n",
    "    cursor.execute(\n",
    "        \"INSERT INTO code_completion (note_id, dataframe_header, solution_dataframe, problem_description, dataset_path) VALUES (?, ?, ?, ?, ?)\",\n",
    "        (note_id, dataframe_head.to_json(), dataframe_target.to_json(), description, dataset_path),\n",
    "    )\n",
    "    conn.commit()\n",
    "    conn.close()\n"
   ]
  },
  {
   "cell_type": "code",
   "execution_count": null,
   "metadata": {},
   "outputs": [],
   "source": []
  },
  {
   "cell_type": "code",
   "execution_count": 2,
   "metadata": {},
   "outputs": [],
   "source": [
    "import polars as pl\n",
    "import pandas as pd \n",
    "\n",
    "\n",
    "dataset_path = \"backend/code_completion/data/contoso_sales.csv\"\n",
    "\n",
    "df = pl.read_csv(\"../../\"+dataset_path)\n",
    "\n",
    "# transformation\n",
    "result = (\n",
    "    df\n",
    "    .group_by('Brand')\n",
    "    .agg(pl.col('Quantity').sum().alias('Sum of Quantity'))\n",
    ")\n",
    "\n",
    "input_header = pd.DataFrame(df.head(3).to_dict())\n",
    "\n",
    "result = pd.DataFrame(result.to_dict())\n",
    "\n",
    "description = \"Summarise the brand column by taking the sum of Quanaity, naming the new column 'Sum of Quanity'\"\n",
    "# \n",
    "write_example_to_db(input_header, result, dataset_path, description)"
   ]
  },
  {
   "cell_type": "code",
   "execution_count": null,
   "metadata": {},
   "outputs": [],
   "source": []
  }
 ],
 "metadata": {
  "kernelspec": {
   "display_name": "memory-slim-yfBww1WE-py3.12",
   "language": "python",
   "name": "python3"
  },
  "language_info": {
   "codemirror_mode": {
    "name": "ipython",
    "version": 3
   },
   "file_extension": ".py",
   "mimetype": "text/x-python",
   "name": "python",
   "nbconvert_exporter": "python",
   "pygments_lexer": "ipython3",
   "version": "3.12.5"
  }
 },
 "nbformat": 4,
 "nbformat_minor": 2
}
